{
  "nbformat": 4,
  "nbformat_minor": 0,
  "metadata": {
    "colab": {
      "provenance": [],
      "gpuType": "T4",
      "include_colab_link": true
    },
    "kernelspec": {
      "name": "python3",
      "display_name": "Python 3"
    },
    "language_info": {
      "name": "python"
    },
    "accelerator": "GPU"
  },
  "cells": [
    {
      "cell_type": "markdown",
      "metadata": {
        "id": "view-in-github",
        "colab_type": "text"
      },
      "source": [
        "<a href=\"https://colab.research.google.com/github/ErickCastroAlarcon/Gpu/blob/main/Proyecto_Gpu.ipynb\" target=\"_parent\"><img src=\"https://colab.research.google.com/assets/colab-badge.svg\" alt=\"Open In Colab\"/></a>"
      ]
    },
    {
      "cell_type": "markdown",
      "source": [
        "# Proyecto de Gpu: Fluido de SPH"
      ],
      "metadata": {
        "id": "Io49M16pSv88"
      }
    },
    {
      "cell_type": "code",
      "execution_count": null,
      "metadata": {
        "colab": {
          "base_uri": "https://localhost:8080/"
        },
        "id": "65up_PP1CYZH",
        "outputId": "e7860d5b-af0f-4d58-9c43-0e2fcc47a9fe"
      },
      "outputs": [
        {
          "output_type": "stream",
          "name": "stdout",
          "text": [
            "Requirement already satisfied: taichi in /usr/local/lib/python3.12/dist-packages (1.7.4)\n",
            "Requirement already satisfied: numpy in /usr/local/lib/python3.12/dist-packages (from taichi) (2.0.2)\n",
            "Requirement already satisfied: colorama in /usr/local/lib/python3.12/dist-packages (from taichi) (0.4.6)\n",
            "Requirement already satisfied: dill in /usr/local/lib/python3.12/dist-packages (from taichi) (0.3.8)\n",
            "Requirement already satisfied: rich in /usr/local/lib/python3.12/dist-packages (from taichi) (13.9.4)\n",
            "Requirement already satisfied: markdown-it-py>=2.2.0 in /usr/local/lib/python3.12/dist-packages (from rich->taichi) (4.0.0)\n",
            "Requirement already satisfied: pygments<3.0.0,>=2.13.0 in /usr/local/lib/python3.12/dist-packages (from rich->taichi) (2.19.2)\n",
            "Requirement already satisfied: mdurl~=0.1 in /usr/local/lib/python3.12/dist-packages (from markdown-it-py>=2.2.0->rich->taichi) (0.1.2)\n",
            "Requirement already satisfied: imageio[ffmpeg] in /usr/local/lib/python3.12/dist-packages (2.37.0)\n",
            "Requirement already satisfied: numpy in /usr/local/lib/python3.12/dist-packages (from imageio[ffmpeg]) (2.0.2)\n",
            "Requirement already satisfied: pillow>=8.3.2 in /usr/local/lib/python3.12/dist-packages (from imageio[ffmpeg]) (11.3.0)\n",
            "Requirement already satisfied: imageio-ffmpeg in /usr/local/lib/python3.12/dist-packages (from imageio[ffmpeg]) (0.6.0)\n",
            "Requirement already satisfied: psutil in /usr/local/lib/python3.12/dist-packages (from imageio[ffmpeg]) (5.9.5)\n"
          ]
        }
      ],
      "source": [
        "# Instalamos Taichi\n",
        "!pip install taichi\n",
        "!pip install imageio[ffmpeg]"
      ]
    },
    {
      "cell_type": "code",
      "source": [
        "# Paquetes\n",
        "import matplotlib.pyplot as plt\n",
        "import numpy as np\n",
        "import sympy as sp\n",
        "import imageio\n",
        "import taichi as ti\n",
        "ti.init(arch=ti.gpu)"
      ],
      "metadata": {
        "colab": {
          "base_uri": "https://localhost:8080/"
        },
        "id": "6g2XH4WeCx-7",
        "outputId": "1beb138a-5a53-4ba8-bba4-e1b6e3dad75a"
      },
      "execution_count": null,
      "outputs": [
        {
          "output_type": "stream",
          "name": "stdout",
          "text": [
            "[Taichi] Starting on arch=cuda\n"
          ]
        }
      ]
    },
    {
      "cell_type": "markdown",
      "source": [
        "## Parametros:"
      ],
      "metadata": {
        "id": "JZtOMWIGS6cj"
      }
    },
    {
      "cell_type": "code",
      "source": [
        "# Número de partículas\n",
        "N = 10000\n",
        "\n",
        "# Definimos campos para partículas\n",
        "pos = ti.Vector.field(3, dtype=ti.f32, shape=N)  # posiciones (x,y)\n",
        "vel = ti.Vector.field(3, dtype=ti.f32, shape=N)  # velocidades\n",
        "force = ti.Vector.field(3, dtype=ti.f32, shape=N)  # fuerzas\n",
        "rho = ti.field(dtype=ti.f32, shape=N)             # densidad\n",
        "p = ti.field(dtype=ti.f32, shape=N)               # presión\n",
        "\n",
        "# Parametros de la grilla 3D\n",
        "h = 0.05 # Radio de Kernel\n",
        "cell_size = h\n",
        "nx = ny = nz = int(1.0 / cell_size) + 1\n",
        "num_cells = nx * ny * nz\n",
        "\n",
        "head = ti.field(dtype=ti.i32, shape=num_cells)\n",
        "next = ti.field(dtype=ti.i32, shape=N)"
      ],
      "metadata": {
        "id": "u-FyLts_DGmf"
      },
      "execution_count": null,
      "outputs": []
    },
    {
      "cell_type": "markdown",
      "source": [
        "## Kernels:"
      ],
      "metadata": {
        "id": "sdcZLKJHTDBx"
      }
    },
    {
      "cell_type": "code",
      "source": [
        "# Iniciar Particulas\n",
        "@ti.kernel\n",
        "def init_particulas():\n",
        "    for i in range(N):\n",
        "        # Coordenadas iniciales en una grilla\n",
        "        x = (i % 70) * 0.01 + 0.1   # columna\n",
        "        y = (i // 70) * 0.01 + 0.1  # fila\n",
        "        pos[i] = ti.Vector([x, y])\n",
        "        vel[i] = ti.Vector([0.0, 0.0])\n",
        "        force[i] = ti.Vector([0.0, 0.0])\n",
        "        rho[i] = 1.0\n",
        "        p[i] = 0.0\n",
        "\n",
        "# Crear Grilla\n",
        "@ti.kernel\n",
        "def crear_grilla():\n",
        "    for c in range(num_cells):\n",
        "      head[c] = -1\n",
        "  for i in range(N):\n",
        "      p = pos[i]\n",
        "      ci = int(p[0] / cell_size)\n",
        "      cj = int(p[1] / cell_size)\n",
        "      ck = int(p[2] / cell_size)\n",
        "      ci = ti.min(ti.max(ci, 0), nx - 1)\n",
        "      cj = ti.min(ti.max(cj, 0), ny - 1)\n",
        "      ck = ti.min(ti.max(ck, 0), nz - 1)\n",
        "      cell_id = ci + cj * nx + ck * nx * ny   # mapeo lineal\n",
        "      # inserción atómica al head\n",
        "      nxt = ti.atomic_xchg(head[cell_id], i)  # atomic exchange\n",
        "      next[i] = nxt\n"
      ],
      "metadata": {
        "id": "ohp_DS5VDZag"
      },
      "execution_count": null,
      "outputs": []
    },
    {
      "cell_type": "code",
      "source": [
        "# Construir lista de vecinos\n"
      ],
      "metadata": {
        "id": "_PCacGhmVpWM"
      },
      "execution_count": null,
      "outputs": []
    },
    {
      "cell_type": "markdown",
      "source": [
        "### Densidad:\n",
        "$\\rho_i = \\sum_j m_j W(r_{ij},h)$"
      ],
      "metadata": {
        "id": "uCcIMboWVE79"
      }
    },
    {
      "cell_type": "code",
      "source": [],
      "metadata": {
        "id": "2nhz8Ne-VC_c"
      },
      "execution_count": null,
      "outputs": []
    },
    {
      "cell_type": "code",
      "source": [
        "\n"
      ],
      "metadata": {
        "id": "cC0I8WtrMzIH"
      },
      "execution_count": null,
      "outputs": []
    },
    {
      "cell_type": "code",
      "source": [
        "# Número de partículas\n",
        "N = 500\n",
        "pos = ti.Vector.field(2, dtype=ti.f32, shape=N)\n",
        "vel = ti.Vector.field(2, dtype=ti.f32, shape=N)\n",
        "\n",
        "@ti.kernel\n",
        "def init_particles():\n",
        "    for i in range(N):\n",
        "        x = (i % 20) * 0.03 + 0.2\n",
        "        y = (i // 20) * 0.03 + 0.5\n",
        "        pos[i] = ti.Vector([x, y])\n",
        "        vel[i] = ti.Vector([0.0, 0.0])\n",
        "\n",
        "@ti.kernel\n",
        "def step(dt: ti.f32):\n",
        "    for i in range(N):\n",
        "        vel[i].y -= 9.8 * dt   # gravedad\n",
        "        pos[i] += vel[i] * dt\n",
        "        if pos[i].y < 0.0:     # rebote en suelo\n",
        "            pos[i].y = 0.0\n",
        "            vel[i].y *= -1.0\n",
        "\n",
        "# --------------------------\n",
        "# Animación a MP4 directo\n",
        "# --------------------------\n",
        "init_particles()\n",
        "\n",
        "with imageio.get_writer(\"particles.mp4\", fps=30, codec=\"libx264\") as writer:\n",
        "    for frame in range(1000):\n",
        "        step(0.016)\n",
        "\n",
        "        # dibujar con matplotlib\n",
        "        fig, ax = plt.subplots(figsize=(4, 4))\n",
        "        arr = pos.to_numpy()\n",
        "        ax.scatter(arr[:, 0], arr[:, 1], s=10, c=\"blue\")\n",
        "        ax.set_xlim(0, 1)\n",
        "        ax.set_ylim(0, 1)\n",
        "        ax.set_aspect(\"equal\")\n",
        "        ax.axis(\"off\")\n",
        "\n",
        "        fig.canvas.draw()\n",
        "        w, h = fig.canvas.get_width_height()\n",
        "        buf = np.frombuffer(fig.canvas.renderer.buffer_rgba(), dtype=np.uint8)\n",
        "        frame = buf.reshape(h, w, 4)[..., :3]           # quitar canal alpha\n",
        "        # frame tiene shape (height, width, 3) dtype uint8\n",
        "        writer.append_data(frame)\n",
        "\n",
        "        plt.close(fig)\n"
      ],
      "metadata": {
        "id": "2ZK06IeVFgxJ"
      },
      "execution_count": null,
      "outputs": []
    }
  ]
}